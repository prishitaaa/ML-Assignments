{
  "nbformat": 4,
  "nbformat_minor": 0,
  "metadata": {
    "colab": {
      "provenance": [],
      "include_colab_link": true
    },
    "kernelspec": {
      "name": "python3",
      "display_name": "Python 3"
    },
    "language_info": {
      "name": "python"
    }
  },
  "cells": [
    {
      "cell_type": "markdown",
      "metadata": {
        "id": "view-in-github",
        "colab_type": "text"
      },
      "source": [
        "<a href=\"https://colab.research.google.com/github/prishitaaa/ML-Assignments/blob/Week-0/prishitaPythonBasics.ipynb\" target=\"_parent\"><img src=\"https://colab.research.google.com/assets/colab-badge.svg\" alt=\"Open In Colab\"/></a>"
      ]
    },
    {
      "cell_type": "markdown",
      "source": [
        "#The very basics"
      ],
      "metadata": {
        "id": "KC7B8HPwdlH7"
      }
    },
    {
      "cell_type": "code",
      "source": [
        "print(\"Welcome to Synapse Seminar!\")"
      ],
      "metadata": {
        "colab": {
          "base_uri": "https://localhost:8080/"
        },
        "id": "iJAKssiVhP27",
        "outputId": "7cdce6aa-baad-4598-bcd1-48d9b053c127"
      },
      "execution_count": null,
      "outputs": [
        {
          "output_type": "stream",
          "name": "stdout",
          "text": [
            "Welcome to Synapse Seminar!\n"
          ]
        }
      ]
    },
    {
      "cell_type": "code",
      "source": [
        "a = 10\n",
        "a"
      ],
      "metadata": {
        "colab": {
          "base_uri": "https://localhost:8080/"
        },
        "id": "NCKSCOjyhYtx",
        "outputId": "d1ee98a9-86d7-4e33-ec9b-f3ea00917f65"
      },
      "execution_count": null,
      "outputs": [
        {
          "output_type": "execute_result",
          "data": {
            "text/plain": [
              "10"
            ]
          },
          "metadata": {},
          "execution_count": 59
        }
      ]
    },
    {
      "cell_type": "code",
      "source": [
        "a, b = 1, 2\n",
        "print(a + b)"
      ],
      "metadata": {
        "colab": {
          "base_uri": "https://localhost:8080/"
        },
        "id": "GFelnnQq3HzS",
        "outputId": "a779dbb5-a09b-4c37-daed-4f22926770af"
      },
      "execution_count": null,
      "outputs": [
        {
          "output_type": "stream",
          "name": "stdout",
          "text": [
            "3\n"
          ]
        }
      ]
    },
    {
      "cell_type": "code",
      "source": [
        "print(\"abc \"*10)"
      ],
      "metadata": {
        "colab": {
          "base_uri": "https://localhost:8080/"
        },
        "id": "w62L0iTnd2bN",
        "outputId": "13b5e643-e49e-4f71-de86-4f1093fdc6b8"
      },
      "execution_count": null,
      "outputs": [
        {
          "output_type": "stream",
          "name": "stdout",
          "text": [
            "abc abc abc abc abc abc abc abc abc abc \n"
          ]
        }
      ]
    },
    {
      "cell_type": "code",
      "source": [
        "for i in range(6):\n",
        "  print('*'*i)"
      ],
      "metadata": {
        "colab": {
          "base_uri": "https://localhost:8080/"
        },
        "id": "k4tUfJmG3UyT",
        "outputId": "8d142550-a67d-426e-c310-1afa2d24396d"
      },
      "execution_count": null,
      "outputs": [
        {
          "output_type": "stream",
          "name": "stdout",
          "text": [
            "\n",
            "*\n",
            "**\n",
            "***\n",
            "****\n",
            "*****\n"
          ]
        }
      ]
    },
    {
      "cell_type": "code",
      "source": [
        "for i in range(1, 10, 2):\n",
        "  print('*'*i)"
      ],
      "metadata": {
        "colab": {
          "base_uri": "https://localhost:8080/"
        },
        "id": "lxPkFirM3wZg",
        "outputId": "d6d0237b-0936-47f2-bdb7-1c53e668b3bd"
      },
      "execution_count": null,
      "outputs": [
        {
          "output_type": "stream",
          "name": "stdout",
          "text": [
            "*\n",
            "***\n",
            "*****\n",
            "*******\n",
            "*********\n"
          ]
        }
      ]
    },
    {
      "cell_type": "code",
      "source": [
        "i = 0\n",
        "while i != 10:\n",
        "  print(\"a\" * i)\n",
        "  i += 1"
      ],
      "metadata": {
        "colab": {
          "base_uri": "https://localhost:8080/"
        },
        "id": "NrgZXFv736vZ",
        "outputId": "80493444-785d-4e6a-87de-6c7ac67df0eb"
      },
      "execution_count": null,
      "outputs": [
        {
          "output_type": "stream",
          "name": "stdout",
          "text": [
            "\n",
            "a\n",
            "aa\n",
            "aaa\n",
            "aaaa\n",
            "aaaaa\n",
            "aaaaaa\n",
            "aaaaaaa\n",
            "aaaaaaaa\n",
            "aaaaaaaaa\n"
          ]
        }
      ]
    },
    {
      "cell_type": "code",
      "execution_count": null,
      "metadata": {
        "colab": {
          "base_uri": "https://localhost:8080/"
        },
        "id": "wEL0u7w5c6ll",
        "outputId": "b7d60bab-72ef-4bca-901f-1d84d9c34456"
      },
      "outputs": [
        {
          "output_type": "stream",
          "name": "stdout",
          "text": [
            "Hello Cat, says meow!\n"
          ]
        }
      ],
      "source": [
        "pet = \"Cat\"\n",
        "print(f'Hello {pet}, says meow!')"
      ]
    },
    {
      "cell_type": "code",
      "source": [
        "pet = input(\"Enter a string : \")\n",
        "print(f'Hello {pet}, says meow!')"
      ],
      "metadata": {
        "colab": {
          "base_uri": "https://localhost:8080/"
        },
        "id": "JM5nEag-PhZu",
        "outputId": "429f89c1-0e76-41d3-8b15-c9cbb1625a1d"
      },
      "execution_count": null,
      "outputs": [
        {
          "output_type": "stream",
          "name": "stdout",
          "text": [
            "Enter a string : crocy\n",
            "Hello crocy, says meow!\n"
          ]
        }
      ]
    },
    {
      "cell_type": "code",
      "source": [
        "print(f\"INT : {type(2)}, \\nFLOAT : {type(4.11)}, \\nSTRING : {type('Hello')}\")"
      ],
      "metadata": {
        "colab": {
          "base_uri": "https://localhost:8080/"
        },
        "id": "PXSh0PLaeIsu",
        "outputId": "51454277-8ec9-439a-c597-9606725e4f32"
      },
      "execution_count": null,
      "outputs": [
        {
          "output_type": "stream",
          "name": "stdout",
          "text": [
            "INT : <class 'int'>, \n",
            "FLOAT : <class 'float'>, \n",
            "STRING : <class 'str'>\n"
          ]
        }
      ]
    },
    {
      "cell_type": "code",
      "source": [
        "import math"
      ],
      "metadata": {
        "id": "CwTPJtQZVDRE"
      },
      "execution_count": null,
      "outputs": []
    },
    {
      "cell_type": "code",
      "source": [
        "pi = 22//7\n",
        "piButBetter = 22/7\n",
        "print(f'{pi}\\n{piButBetter}')"
      ],
      "metadata": {
        "colab": {
          "base_uri": "https://localhost:8080/"
        },
        "id": "1MTG0Py7k9O9",
        "outputId": "030d22e8-a085-407d-87ab-5e1e387795b4"
      },
      "execution_count": null,
      "outputs": [
        {
          "output_type": "stream",
          "name": "stdout",
          "text": [
            "3\n",
            "3.142857142857143\n"
          ]
        }
      ]
    },
    {
      "cell_type": "code",
      "source": [
        "print(f\"Giga PI : {math.pi}\")"
      ],
      "metadata": {
        "colab": {
          "base_uri": "https://localhost:8080/"
        },
        "id": "iqCrOhDiVE2j",
        "outputId": "159e87ad-723e-4cce-de9a-8f6de4bc704a"
      },
      "execution_count": null,
      "outputs": [
        {
          "output_type": "stream",
          "name": "stdout",
          "text": [
            "Giga PI : 3.141592653589793\n"
          ]
        }
      ]
    },
    {
      "cell_type": "code",
      "source": [
        "greeting=\"\"\"\n",
        "Hello, Happy all to see you here!\n",
        "Hope (No Hope)\n",
        "\"\"\"\n",
        "print(greeting)"
      ],
      "metadata": {
        "colab": {
          "base_uri": "https://localhost:8080/"
        },
        "id": "-PllNvUQl-Cz",
        "outputId": "f401590f-898d-416a-e663-01a48058d27e"
      },
      "execution_count": null,
      "outputs": [
        {
          "output_type": "stream",
          "name": "stdout",
          "text": [
            "\n",
            "Hello, Happy all to see you here!\n",
            "Hope\n",
            "\n"
          ]
        }
      ]
    },
    {
      "cell_type": "code",
      "source": [
        "# if else\n",
        "key = 123\n",
        "if key == 100:\n",
        "  print('This 100')\n",
        "elif key == 123:\n",
        "  print('This 123')\n",
        "else:\n",
        "  print('You shouldnt be here :(')"
      ],
      "metadata": {
        "colab": {
          "base_uri": "https://localhost:8080/"
        },
        "id": "QSgLTHR7o0Om",
        "outputId": "a3487480-a471-4906-c980-f0dc8f397850"
      },
      "execution_count": null,
      "outputs": [
        {
          "output_type": "stream",
          "name": "stdout",
          "text": [
            "This 123\n"
          ]
        }
      ]
    },
    {
      "cell_type": "markdown",
      "source": [
        "#Lists and Tuples"
      ],
      "metadata": {
        "id": "fy_JBi0u4jxZ"
      }
    },
    {
      "cell_type": "code",
      "source": [
        "listy = [1, 2.4, True,'abc']\n",
        "listy"
      ],
      "metadata": {
        "colab": {
          "base_uri": "https://localhost:8080/"
        },
        "id": "pmIgAXOad9jV",
        "outputId": "e4ce65ae-aed9-487a-eada-86e482f4d220"
      },
      "execution_count": null,
      "outputs": [
        {
          "output_type": "execute_result",
          "data": {
            "text/plain": [
              "[1, 2.4, True, 'abc']"
            ]
          },
          "metadata": {},
          "execution_count": 70
        }
      ]
    },
    {
      "cell_type": "code",
      "source": [
        "tupy = (1,2,3,'fdl')\n",
        "tupy"
      ],
      "metadata": {
        "colab": {
          "base_uri": "https://localhost:8080/"
        },
        "id": "73Y4gjmOezib",
        "outputId": "b40d54dc-0de4-45e1-bd3a-eec46eb58c8b"
      },
      "execution_count": null,
      "outputs": [
        {
          "output_type": "execute_result",
          "data": {
            "text/plain": [
              "(1, 2, 3, 'fdl')"
            ]
          },
          "metadata": {},
          "execution_count": 10
        }
      ]
    },
    {
      "cell_type": "code",
      "source": [
        "tupy[2:6]"
      ],
      "metadata": {
        "colab": {
          "base_uri": "https://localhost:8080/"
        },
        "id": "JmEV7SpVvwde",
        "outputId": "caebea64-d146-42a9-82cd-a407c784fac2"
      },
      "execution_count": null,
      "outputs": [
        {
          "output_type": "execute_result",
          "data": {
            "text/plain": [
              "(3, 'fdl')"
            ]
          },
          "metadata": {},
          "execution_count": 71
        }
      ]
    },
    {
      "cell_type": "code",
      "source": [
        "tupy[1:2:1]"
      ],
      "metadata": {
        "colab": {
          "base_uri": "https://localhost:8080/"
        },
        "id": "9ZsBDTnO5b2X",
        "outputId": "c9ab391e-60da-417d-b63b-f5318f33e197"
      },
      "execution_count": null,
      "outputs": [
        {
          "output_type": "execute_result",
          "data": {
            "text/plain": [
              "(2,)"
            ]
          },
          "metadata": {},
          "execution_count": 72
        }
      ]
    },
    {
      "cell_type": "code",
      "source": [
        "tupy[-1::-1]"
      ],
      "metadata": {
        "colab": {
          "base_uri": "https://localhost:8080/"
        },
        "id": "cGHDd0uEwFn4",
        "outputId": "fb66277b-1682-4409-aad4-5d5e5756b4c4"
      },
      "execution_count": null,
      "outputs": [
        {
          "output_type": "execute_result",
          "data": {
            "text/plain": [
              "('fdl', 3, 2, 1)"
            ]
          },
          "metadata": {},
          "execution_count": 12
        }
      ]
    },
    {
      "cell_type": "code",
      "source": [
        "listyV2 = [[1, ['This'],3], [4,5,6]]\n",
        "listyV2[0][1][0]"
      ],
      "metadata": {
        "colab": {
          "base_uri": "https://localhost:8080/",
          "height": 35
        },
        "id": "6q_j3lEge6x0",
        "outputId": "6aace9aa-8e52-4c61-f804-57c72a88ae25"
      },
      "execution_count": null,
      "outputs": [
        {
          "output_type": "execute_result",
          "data": {
            "text/plain": [
              "'This'"
            ],
            "application/vnd.google.colaboratory.intrinsic+json": {
              "type": "string"
            }
          },
          "metadata": {},
          "execution_count": 73
        }
      ]
    },
    {
      "cell_type": "code",
      "source": [
        "print(listy + tupy) #error why?"
      ],
      "metadata": {
        "colab": {
          "base_uri": "https://localhost:8080/",
          "height": 175
        },
        "id": "cddAuP6GfNbO",
        "outputId": "edfc3e2c-51de-4a63-a8ea-ce2a84ca15a1"
      },
      "execution_count": null,
      "outputs": [
        {
          "output_type": "error",
          "ename": "TypeError",
          "evalue": "ignored",
          "traceback": [
            "\u001b[0;31m---------------------------------------------------------------------------\u001b[0m",
            "\u001b[0;31mTypeError\u001b[0m                                 Traceback (most recent call last)",
            "\u001b[0;32m<ipython-input-14-828a2fd71562>\u001b[0m in \u001b[0;36m<cell line: 1>\u001b[0;34m()\u001b[0m\n\u001b[0;32m----> 1\u001b[0;31m \u001b[0mprint\u001b[0m\u001b[0;34m(\u001b[0m\u001b[0mlisty\u001b[0m \u001b[0;34m+\u001b[0m \u001b[0mtupy\u001b[0m\u001b[0;34m)\u001b[0m \u001b[0;31m#error why?\u001b[0m\u001b[0;34m\u001b[0m\u001b[0;34m\u001b[0m\u001b[0m\n\u001b[0m",
            "\u001b[0;31mTypeError\u001b[0m: can only concatenate list (not \"tuple\") to list"
          ]
        }
      ]
    },
    {
      "cell_type": "code",
      "source": [
        "len(listy)"
      ],
      "metadata": {
        "colab": {
          "base_uri": "https://localhost:8080/"
        },
        "id": "h0BTNeO0oov-",
        "outputId": "3b43a95b-044b-4f2c-f785-b85ae64625ff"
      },
      "execution_count": null,
      "outputs": [
        {
          "output_type": "execute_result",
          "data": {
            "text/plain": [
              "4"
            ]
          },
          "metadata": {},
          "execution_count": 16
        }
      ]
    },
    {
      "cell_type": "code",
      "source": [
        "listy.append(100)\n",
        "listy"
      ],
      "metadata": {
        "colab": {
          "base_uri": "https://localhost:8080/"
        },
        "id": "6pPZfjuGju1e",
        "outputId": "8d1dee78-e094-4d29-a45e-efa1b0085a1c"
      },
      "execution_count": null,
      "outputs": [
        {
          "output_type": "execute_result",
          "data": {
            "text/plain": [
              "[1, 2, 3, 'abc', 100]"
            ]
          },
          "metadata": {},
          "execution_count": 17
        }
      ]
    },
    {
      "cell_type": "code",
      "source": [
        "listy.pop()"
      ],
      "metadata": {
        "colab": {
          "base_uri": "https://localhost:8080/"
        },
        "id": "oUHgI7Esj12F",
        "outputId": "83e8d594-49d1-42ea-f955-88d57f3a4116"
      },
      "execution_count": null,
      "outputs": [
        {
          "output_type": "execute_result",
          "data": {
            "text/plain": [
              "100"
            ]
          },
          "metadata": {},
          "execution_count": 18
        }
      ]
    },
    {
      "cell_type": "code",
      "source": [
        "listy.extend([4.5, True, \"Money\"])\n",
        "listy"
      ],
      "metadata": {
        "colab": {
          "base_uri": "https://localhost:8080/"
        },
        "id": "YSoYJZtomxwb",
        "outputId": "382b0c9d-85ae-4e46-8d49-9816f6618c85"
      },
      "execution_count": null,
      "outputs": [
        {
          "output_type": "execute_result",
          "data": {
            "text/plain": [
              "[1, 2, 3, 'abc', 4.5, True, 'Money']"
            ]
          },
          "metadata": {},
          "execution_count": 19
        }
      ]
    },
    {
      "cell_type": "code",
      "source": [
        "for i in listy:\n",
        "  print(i, end=\" - \")"
      ],
      "metadata": {
        "colab": {
          "base_uri": "https://localhost:8080/"
        },
        "id": "SlWwRr-NlzrC",
        "outputId": "4bcd0c4b-0a3b-4b1f-b2c2-6f15f5bc5048"
      },
      "execution_count": null,
      "outputs": [
        {
          "output_type": "stream",
          "name": "stdout",
          "text": [
            "1 - 2 - 3 - abc - 4.5 - True - Money - "
          ]
        }
      ]
    },
    {
      "cell_type": "code",
      "source": [
        "for key, value in enumerate(listy):\n",
        "  print(f\"Index :{key} with value : {value}\")"
      ],
      "metadata": {
        "colab": {
          "base_uri": "https://localhost:8080/"
        },
        "id": "bSe3vfjdnoqv",
        "outputId": "a1130d9f-0fb0-49b5-ad75-f52456986c60"
      },
      "execution_count": null,
      "outputs": [
        {
          "output_type": "stream",
          "name": "stdout",
          "text": [
            "Index :0 with value : 1\n",
            "Index :1 with value : 2\n",
            "Index :2 with value : 3\n",
            "Index :3 with value : abc\n",
            "Index :4 with value : 4.5\n",
            "Index :5 with value : True\n",
            "Index :6 with value : Money\n"
          ]
        }
      ]
    },
    {
      "cell_type": "code",
      "source": [
        "for key, value in enumerate(listy, start=100):\n",
        "  print(f\"Index :{key} with value : {value}\")"
      ],
      "metadata": {
        "colab": {
          "base_uri": "https://localhost:8080/"
        },
        "id": "E7fIY_LHoB5q",
        "outputId": "ebef5cdb-57ba-4fe4-bf70-1375ba34a8d3"
      },
      "execution_count": null,
      "outputs": [
        {
          "output_type": "stream",
          "name": "stdout",
          "text": [
            "Index :100 with value : 1\n",
            "Index :101 with value : 2\n",
            "Index :102 with value : 3\n",
            "Index :103 with value : abc\n",
            "Index :104 with value : 4.5\n",
            "Index :105 with value : True\n",
            "Index :106 with value : Money\n"
          ]
        }
      ]
    },
    {
      "cell_type": "code",
      "source": [
        "lst = []\n",
        "for i in range(1, 11):\n",
        "  lst.append(i**2)\n",
        "lst"
      ],
      "metadata": {
        "colab": {
          "base_uri": "https://localhost:8080/"
        },
        "id": "ssRiO8mpnO_8",
        "outputId": "45d00d00-d266-4c1a-95c4-f5da78875700"
      },
      "execution_count": null,
      "outputs": [
        {
          "output_type": "execute_result",
          "data": {
            "text/plain": [
              "[1, 4, 9, 16, 25, 36, 49, 64, 81, 100]"
            ]
          },
          "metadata": {},
          "execution_count": 74
        }
      ]
    },
    {
      "cell_type": "code",
      "source": [
        "listyV3 = [i**2 for i in range(1,11)]\n",
        "listyV3"
      ],
      "metadata": {
        "colab": {
          "base_uri": "https://localhost:8080/"
        },
        "id": "fpMtOdoHkU1I",
        "outputId": "e2b5fc58-e487-4070-8f2d-4e05179a8011"
      },
      "execution_count": null,
      "outputs": [
        {
          "output_type": "execute_result",
          "data": {
            "text/plain": [
              "[1, 4, 9, 16, 25, 36, 49, 64, 81, 100]"
            ]
          },
          "metadata": {},
          "execution_count": 24
        }
      ]
    },
    {
      "cell_type": "code",
      "source": [
        "fn = lambda x, y : (x + y)\n",
        "print(fn(1,3))"
      ],
      "metadata": {
        "colab": {
          "base_uri": "https://localhost:8080/"
        },
        "id": "jcp2QXrEp5Gm",
        "outputId": "a1540826-96ac-463d-9284-3ac06ffa5860"
      },
      "execution_count": null,
      "outputs": [
        {
          "output_type": "stream",
          "name": "stdout",
          "text": [
            "4\n"
          ]
        }
      ]
    },
    {
      "cell_type": "code",
      "source": [
        "def func(data):\n",
        "  return data**2"
      ],
      "metadata": {
        "id": "tnASvpZPqwok"
      },
      "execution_count": null,
      "outputs": []
    },
    {
      "cell_type": "code",
      "source": [
        "list(map(func, [1,2,3,4,5]))"
      ],
      "metadata": {
        "colab": {
          "base_uri": "https://localhost:8080/"
        },
        "id": "bdCKWqkFqmPS",
        "outputId": "d4e45af4-ec36-453a-cfcc-baa51ec287ca"
      },
      "execution_count": null,
      "outputs": [
        {
          "output_type": "execute_result",
          "data": {
            "text/plain": [
              "[1, 4, 9, 16, 25]"
            ]
          },
          "metadata": {},
          "execution_count": 27
        }
      ]
    },
    {
      "cell_type": "code",
      "source": [
        "test_keys = [1,2,3]\n",
        "test_values = [\"one\",\"two\",\"three\"]\n",
        "res = dict(zip(test_keys, test_values))\n",
        "res"
      ],
      "metadata": {
        "colab": {
          "base_uri": "https://localhost:8080/"
        },
        "id": "FTaznCSZwjiz",
        "outputId": "82b49dbf-022e-409c-c680-5293f983f72f"
      },
      "execution_count": null,
      "outputs": [
        {
          "output_type": "execute_result",
          "data": {
            "text/plain": [
              "{1: 'one', 2: 'two', 3: 'three'}"
            ]
          },
          "metadata": {},
          "execution_count": 28
        }
      ]
    },
    {
      "cell_type": "code",
      "source": [
        "customer_name = ['John','Sam','Rick','Jim', 'Ken']\n",
        "order_id = ['AA123','AAA110','BBB111','BBB123','CCC100']\n",
        "for (c,o) in zip (customer_name,order_id ):\n",
        "    print (f'Hello {c} Your order id is {o}')"
      ],
      "metadata": {
        "colab": {
          "base_uri": "https://localhost:8080/"
        },
        "id": "Rd_uZGrBrSRJ",
        "outputId": "f0d87613-bb3a-4485-fdbe-87600c7b4d4c"
      },
      "execution_count": null,
      "outputs": [
        {
          "output_type": "stream",
          "name": "stdout",
          "text": [
            "Hello John Your order id is AA123\n",
            "Hello Sam Your order id is AAA110\n",
            "Hello Rick Your order id is BBB111\n",
            "Hello Jim Your order id is BBB123\n",
            "Hello Ken Your order id is CCC100\n"
          ]
        }
      ]
    },
    {
      "cell_type": "code",
      "source": [
        "person = {'first_name':['John','Sam','Jim','Kim'],'Last_name': 'Len'}"
      ],
      "metadata": {
        "id": "RxJtj_P3fZdf"
      },
      "execution_count": null,
      "outputs": []
    },
    {
      "cell_type": "code",
      "source": [
        "person.keys()"
      ],
      "metadata": {
        "colab": {
          "base_uri": "https://localhost:8080/"
        },
        "id": "OZVqwS8Oj-SO",
        "outputId": "2fe7796f-2fcc-42ca-ed4c-0d6ce6274c5f"
      },
      "execution_count": null,
      "outputs": [
        {
          "output_type": "execute_result",
          "data": {
            "text/plain": [
              "dict_keys(['first_name', 'Last_name'])"
            ]
          },
          "metadata": {},
          "execution_count": 31
        }
      ]
    },
    {
      "cell_type": "code",
      "source": [
        "person.values()"
      ],
      "metadata": {
        "colab": {
          "base_uri": "https://localhost:8080/"
        },
        "id": "sXE-04XOj_5W",
        "outputId": "89a18518-804a-4a4a-92b1-22e3b6d4b7b6"
      },
      "execution_count": null,
      "outputs": [
        {
          "output_type": "execute_result",
          "data": {
            "text/plain": [
              "dict_values([['John', 'Sam', 'Jim', 'Kim'], 'Len'])"
            ]
          },
          "metadata": {},
          "execution_count": 32
        }
      ]
    },
    {
      "cell_type": "code",
      "source": [
        "person.items()"
      ],
      "metadata": {
        "colab": {
          "base_uri": "https://localhost:8080/"
        },
        "id": "OGrmhaNYkCKm",
        "outputId": "efc45b19-9838-4279-ca2f-404aceaf5cfb"
      },
      "execution_count": null,
      "outputs": [
        {
          "output_type": "execute_result",
          "data": {
            "text/plain": [
              "dict_items([('first_name', ['John', 'Sam', 'Jim', 'Kim']), ('Last_name', 'Len')])"
            ]
          },
          "metadata": {},
          "execution_count": 33
        }
      ]
    },
    {
      "cell_type": "code",
      "source": [
        "person.get('first_name')"
      ],
      "metadata": {
        "colab": {
          "base_uri": "https://localhost:8080/"
        },
        "id": "MVoUdDxLkDcX",
        "outputId": "2c230ded-831a-42e6-902b-49a356812d80"
      },
      "execution_count": null,
      "outputs": [
        {
          "output_type": "execute_result",
          "data": {
            "text/plain": [
              "['John', 'Sam', 'Jim', 'Kim']"
            ]
          },
          "metadata": {},
          "execution_count": 34
        }
      ]
    },
    {
      "cell_type": "code",
      "source": [
        "dict1 = {'a': 1, 'b': 2, 'c': 3, 'd': 4, 'e': 5}\n",
        "double_dict1 = {k:v**2 for (k,v) in dict1.items()}\n",
        "double_dict1"
      ],
      "metadata": {
        "id": "x5Bx6yI_inCi",
        "colab": {
          "base_uri": "https://localhost:8080/"
        },
        "outputId": "e5af821a-9bd5-4d40-ee70-9f14246c9a98"
      },
      "execution_count": null,
      "outputs": [
        {
          "output_type": "execute_result",
          "data": {
            "text/plain": [
              "{'a': 1, 'b': 4, 'c': 9, 'd': 16, 'e': 25}"
            ]
          },
          "metadata": {},
          "execution_count": 35
        }
      ]
    },
    {
      "cell_type": "code",
      "source": [
        "def checkvowel(char):\n",
        "  vowels='aeiou'\n",
        "  return char in vowels\n",
        "\n",
        "checkvowel('e')"
      ],
      "metadata": {
        "colab": {
          "base_uri": "https://localhost:8080/"
        },
        "id": "yLdATRjvpmZW",
        "outputId": "f68e1c3b-5d34-469b-fa63-d36520317abf"
      },
      "execution_count": null,
      "outputs": [
        {
          "output_type": "execute_result",
          "data": {
            "text/plain": [
              "True"
            ]
          },
          "metadata": {},
          "execution_count": 36
        }
      ]
    },
    {
      "cell_type": "code",
      "source": [
        "seq1 = \"AGTCATGAAGTCATGA\"\n",
        "seq2 = \"AGTCATGACGTCATGA\""
      ],
      "metadata": {
        "id": "CRl2FrBvTNv3"
      },
      "execution_count": null,
      "outputs": []
    },
    {
      "cell_type": "code",
      "source": [
        "for i, (a, b) in enumerate(zip(seq1, seq2)):\n",
        "  if a != b :\n",
        "    print(f\"Difference at index {i}\")"
      ],
      "metadata": {
        "colab": {
          "base_uri": "https://localhost:8080/"
        },
        "id": "3Invk1S-TxZs",
        "outputId": "76352612-f6d2-461a-d54a-4c80f60eda28"
      },
      "execution_count": null,
      "outputs": [
        {
          "output_type": "stream",
          "name": "stdout",
          "text": [
            "Difference at index 8\n"
          ]
        }
      ]
    },
    {
      "cell_type": "markdown",
      "source": [
        "#SET"
      ],
      "metadata": {
        "id": "5hjNPldCvcFw"
      }
    },
    {
      "cell_type": "code",
      "source": [
        "x = [2, 8, 1, 4, 6, 3, 7]\n",
        "\n",
        "print (\"Sorted List returned :\"),\n",
        "print (sorted(x))\n",
        "\n",
        "\n",
        "print (\"\\nReverse sort :\"),\n",
        "print (sorted(x, reverse = True))\n",
        "\n",
        "\n",
        "# Dictionary\n",
        "x = {'q':1, 'w':2, 'e':3, 'r':4, 't':5, 'y':6}\n",
        "print (sorted(x))\n",
        "\n",
        "# Set\n",
        "x = {'q', 'w', 'e', 'r', 't', 'y'}\n",
        "print (sorted(x))\n",
        "\n",
        "# Frozen Set\n",
        "x = frozenset(('q', 'w', 'e', 'r', 't', 'y'))\n",
        "print (sorted(x))"
      ],
      "metadata": {
        "colab": {
          "base_uri": "https://localhost:8080/"
        },
        "id": "1qgzM3cFydio",
        "outputId": "9386eda9-11f2-4bd2-bd4b-3ca294eb8c48"
      },
      "execution_count": null,
      "outputs": [
        {
          "output_type": "stream",
          "name": "stdout",
          "text": [
            "Sorted List returned :\n",
            "[1, 2, 3, 4, 6, 7, 8]\n",
            "\n",
            "Reverse sort :\n",
            "[8, 7, 6, 4, 3, 2, 1]\n",
            "['e', 'q', 'r', 't', 'w', 'y']\n",
            "['e', 'q', 'r', 't', 'w', 'y']\n",
            "['e', 'q', 'r', 't', 'w', 'y']\n"
          ]
        }
      ]
    },
    {
      "cell_type": "markdown",
      "source": [
        "#OOPS"
      ],
      "metadata": {
        "id": "noJKF-jgtZzW"
      }
    },
    {
      "cell_type": "code",
      "source": [
        "class Vehicle:\n",
        "    def __init__(self,x,y):\n",
        "        self.color = x\n",
        "        self.brand = y\n",
        "\n",
        "    def __str__(self):\n",
        "        return f\"Color : {self.color}, Brand : {self.brand}\""
      ],
      "metadata": {
        "id": "sEpKYBxcsGtF"
      },
      "execution_count": null,
      "outputs": []
    },
    {
      "cell_type": "code",
      "source": [
        "plan = Vehicle(\"red\",\"VW\")\n",
        "print(plan)"
      ],
      "metadata": {
        "colab": {
          "base_uri": "https://localhost:8080/"
        },
        "id": "4vMJOyv-sI6F",
        "outputId": "484ade47-f394-4e28-b85b-68986f803612"
      },
      "execution_count": null,
      "outputs": [
        {
          "output_type": "stream",
          "name": "stdout",
          "text": [
            "Color : red, Brand : VW\n"
          ]
        }
      ]
    },
    {
      "cell_type": "code",
      "source": [
        "class Car(Vehicle):   #inheritance\n",
        "    def __init__(self,x,y,z):\n",
        "      super().__init__(x,y)\n",
        "      self.model = z\n",
        "\n",
        "    def __str__(self):\n",
        "      return f\"Color : {self.color}, Brand : {self.brand}, Model : {self.model}\""
      ],
      "metadata": {
        "id": "8xw1c0l2stb7"
      },
      "execution_count": null,
      "outputs": []
    },
    {
      "cell_type": "code",
      "source": [
        "car = Car(\"red\",\"BMW\",\"5 series\")\n",
        "print(car)"
      ],
      "metadata": {
        "colab": {
          "base_uri": "https://localhost:8080/"
        },
        "id": "Hniwce62s7AD",
        "outputId": "0da9da33-bbe6-4e3b-ed9f-4509b93fff59"
      },
      "execution_count": null,
      "outputs": [
        {
          "output_type": "stream",
          "name": "stdout",
          "text": [
            "Color : red, Brand : BMW, Model : 5 series\n"
          ]
        }
      ]
    },
    {
      "cell_type": "markdown",
      "source": [
        "#ITERTOOLS"
      ],
      "metadata": {
        "id": "kRRelAlypoY0"
      }
    },
    {
      "cell_type": "code",
      "source": [
        "import itertools"
      ],
      "metadata": {
        "id": "h9ny7aIHf9BD"
      },
      "execution_count": null,
      "outputs": []
    },
    {
      "cell_type": "code",
      "source": [
        "list(itertools.permutations('ABCD', 2))"
      ],
      "metadata": {
        "colab": {
          "base_uri": "https://localhost:8080/"
        },
        "id": "RiHoPFF-f6Qr",
        "outputId": "c73bb56a-9c55-476b-cbf6-c852e51ab8d6"
      },
      "execution_count": null,
      "outputs": [
        {
          "output_type": "execute_result",
          "data": {
            "text/plain": [
              "[('A', 'B'),\n",
              " ('A', 'C'),\n",
              " ('A', 'D'),\n",
              " ('B', 'A'),\n",
              " ('B', 'C'),\n",
              " ('B', 'D'),\n",
              " ('C', 'A'),\n",
              " ('C', 'B'),\n",
              " ('C', 'D'),\n",
              " ('D', 'A'),\n",
              " ('D', 'B'),\n",
              " ('D', 'C')]"
            ]
          },
          "metadata": {},
          "execution_count": 38
        }
      ]
    },
    {
      "cell_type": "code",
      "source": [
        "list(itertools.combinations('ABCD', 2))"
      ],
      "metadata": {
        "id": "KGZfgG0pgtPA",
        "colab": {
          "base_uri": "https://localhost:8080/"
        },
        "outputId": "daa2d213-e601-4b32-fd2b-0602443bf26f"
      },
      "execution_count": null,
      "outputs": [
        {
          "output_type": "execute_result",
          "data": {
            "text/plain": [
              "[('A', 'B'), ('A', 'C'), ('A', 'D'), ('B', 'C'), ('B', 'D'), ('C', 'D')]"
            ]
          },
          "metadata": {},
          "execution_count": 39
        }
      ]
    },
    {
      "cell_type": "code",
      "source": [
        "import time"
      ],
      "metadata": {
        "id": "Kq5YUTZfQ3SP"
      },
      "execution_count": null,
      "outputs": []
    },
    {
      "cell_type": "code",
      "source": [
        "color_with_time = [\n",
        "    (\"Red\", 3),\n",
        "    (\"Yellow\", 1),\n",
        "    (\"Green\", 2)\n",
        "]"
      ],
      "metadata": {
        "id": "felL_PPFP-u4"
      },
      "execution_count": null,
      "outputs": []
    },
    {
      "cell_type": "code",
      "source": [
        "iter = itertools.cycle(color_with_time)"
      ],
      "metadata": {
        "id": "-OobQvRRQbS7"
      },
      "execution_count": null,
      "outputs": []
    },
    {
      "cell_type": "code",
      "source": [
        "while True:\n",
        "  c, t = next(iter)\n",
        "  print(c)\n",
        "  time.sleep(t)"
      ],
      "metadata": {
        "colab": {
          "base_uri": "https://localhost:8080/",
          "height": 546
        },
        "id": "lL0RMHHGQnv2",
        "outputId": "01a6a836-46a6-4d2c-a70e-29c6821002ff"
      },
      "execution_count": null,
      "outputs": [
        {
          "output_type": "stream",
          "name": "stdout",
          "text": [
            "Red\n",
            "Yellow\n",
            "Green\n",
            "Red\n",
            "Yellow\n",
            "Green\n",
            "Red\n",
            "Yellow\n",
            "Green\n",
            "Red\n",
            "Yellow\n",
            "Green\n",
            "Red\n",
            "Yellow\n",
            "Green\n",
            "Red\n",
            "Yellow\n",
            "Green\n"
          ]
        },
        {
          "output_type": "error",
          "ename": "KeyboardInterrupt",
          "evalue": "ignored",
          "traceback": [
            "\u001b[0;31m---------------------------------------------------------------------------\u001b[0m",
            "\u001b[0;31mKeyboardInterrupt\u001b[0m                         Traceback (most recent call last)",
            "\u001b[0;32m<ipython-input-14-ed8b3fb266c7>\u001b[0m in \u001b[0;36m<cell line: 1>\u001b[0;34m()\u001b[0m\n\u001b[1;32m      2\u001b[0m   \u001b[0mc\u001b[0m\u001b[0;34m,\u001b[0m \u001b[0mt\u001b[0m \u001b[0;34m=\u001b[0m \u001b[0mnext\u001b[0m\u001b[0;34m(\u001b[0m\u001b[0miter\u001b[0m\u001b[0;34m)\u001b[0m\u001b[0;34m\u001b[0m\u001b[0;34m\u001b[0m\u001b[0m\n\u001b[1;32m      3\u001b[0m   \u001b[0mprint\u001b[0m\u001b[0;34m(\u001b[0m\u001b[0mc\u001b[0m\u001b[0;34m)\u001b[0m\u001b[0;34m\u001b[0m\u001b[0;34m\u001b[0m\u001b[0m\n\u001b[0;32m----> 4\u001b[0;31m   \u001b[0mtime\u001b[0m\u001b[0;34m.\u001b[0m\u001b[0msleep\u001b[0m\u001b[0;34m(\u001b[0m\u001b[0mt\u001b[0m\u001b[0;34m)\u001b[0m\u001b[0;34m\u001b[0m\u001b[0;34m\u001b[0m\u001b[0m\n\u001b[0m",
            "\u001b[0;31mKeyboardInterrupt\u001b[0m: "
          ]
        }
      ]
    }
  ]
}